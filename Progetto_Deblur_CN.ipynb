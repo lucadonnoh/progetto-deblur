{
  "nbformat": 4,
  "nbformat_minor": 0,
  "metadata": {
    "colab": {
      "name": "Progetto_Deblur_CN.ipynb",
      "provenance": [],
      "collapsed_sections": [],
      "include_colab_link": true
    },
    "kernelspec": {
      "name": "python3",
      "display_name": "Python 3"
    }
  },
  "cells": [
    {
      "cell_type": "markdown",
      "metadata": {
        "id": "view-in-github",
        "colab_type": "text"
      },
      "source": [
        "<a href=\"https://colab.research.google.com/github/lucadonnoh/progetto-deblur/blob/main/Progetto_Deblur_CN.ipynb\" target=\"_parent\"><img src=\"https://colab.research.google.com/assets/colab-badge.svg\" alt=\"Open In Colab\"/></a>"
      ]
    },
    {
      "cell_type": "markdown",
      "metadata": {
        "id": "5btvAJi1TDgR"
      },
      "source": [
        "# **Progetto Deblur**\n",
        "\n",
        "---\n",
        "\n",
        "Un'azienda vuole commercializzare un dispositivo di acquisizione immagini, del quale si sa che acquisisce con rumore Gaussiano additivo e sfocatura Gaussiana.\n",
        "Il modello è quindi:\n",
        "\n",
        "\\begin{align*}\n",
        "    b = A x_{true} + \\eta\n",
        "\\end{align*}\n",
        "\n",
        "Dove $A \\in \\mathbb{R}^{mn}$ è la matrice di sfocamento, $\\eta \\sim \\mathcal{N}(0, \\sigma^2)$ rumore additivo con varianza $\\sigma^2$ incognita, $b \\in \\mathbb{R}^{mn}$ è la vettorizzazione dell'immagine corrotta (acquisita) $B \\in \\mathbb{R}^{m \\times n}$, $x_{true} \\in \\mathbb{R}^{mn}$ è la vettorizzazione dell'immagine originale $X_{true} \\in \\mathbb{R}^{m \\times n}$.\n",
        "\n",
        "\n",
        "1. Dopo aver importato le librerie necessarie, assegnare ad una variabile $X$ l'immagine $\\texttt{cameraman}$, ottenibile tramite la libreria $\\texttt{skimage.data}$ con il nome di $\\texttt{camera()}$, effettuarne il $\\texttt{reshape}$ e assegnarlo alla variabile $x$.\n",
        "\n",
        "2. Tramite la funzione $\\texttt{skimage.filters.gaussian}$ aggiungere sfocatura Gaussiana ad $X$ per ottenere $X_{blur}$, che rappresenta il reshape ad immagine di $x_{blur} = A x_{true}$, con $A$ matrice di sfocatura.\n",
        "\n",
        "3. Caricare su una variabile $\\eta$, della stessa dimensione di $X_{true}$, una realizzazione di rumore gaussiano con varianza $\\sigma = 0.1$ (fare riferimento alle slides per la formula). \n",
        "Utilizzare $\\eta$ per corrompere l'immagine $X_{blur}$ e calcolare $B = X_{blur} + \\eta$. \\\\\n",
        "Visualizzare i risultati ottenuti."
      ]
    },
    {
      "cell_type": "code",
      "metadata": {
        "id": "6ttJDmuf3eRy",
        "outputId": "11c057af-8d6f-4aaa-aa43-9a86621ab246",
        "colab": {
          "resources": {
            "http://localhost:8080/nbextensions/google.colab/files.js": {
              "data": "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",
              "ok": true,
              "headers": [
                [
                  "content-type",
                  "application/javascript"
                ]
              ],
              "status": 200,
              "status_text": ""
            }
          },
          "base_uri": "https://localhost:8080/",
          "height": 138
        }
      },
      "source": [
        "#Importo le altre foto\n",
        "from google.colab import files\n",
        "uploaded = files.upload()"
      ],
      "execution_count": 86,
      "outputs": [
        {
          "output_type": "display_data",
          "data": {
            "text/html": [
              "\n",
              "     <input type=\"file\" id=\"files-539f712d-d879-48ab-957c-587e0c82f721\" name=\"files[]\" multiple disabled\n",
              "        style=\"border:none\" />\n",
              "     <output id=\"result-539f712d-d879-48ab-957c-587e0c82f721\">\n",
              "      Upload widget is only available when the cell has been executed in the\n",
              "      current browser session. Please rerun this cell to enable.\n",
              "      </output>\n",
              "      <script src=\"/nbextensions/google.colab/files.js\"></script> "
            ],
            "text/plain": [
              "<IPython.core.display.HTML object>"
            ]
          },
          "metadata": {
            "tags": []
          }
        },
        {
          "output_type": "stream",
          "text": [
            "Saving QRCode.png to QRCode (2).png\n",
            "Saving TextImage.png to TextImage (2).png\n",
            "Saving unknown.png to unknown (1).png\n"
          ],
          "name": "stdout"
        }
      ]
    },
    {
      "cell_type": "code",
      "metadata": {
        "id": "A-XmLMdQYP_w"
      },
      "source": [
        "def gkern(kernlen, nsig):\n",
        "  \"\"\"\n",
        "  Genera un kernel per la realizzazione di un filtro di sfocatura Gaussiana.\n",
        "\n",
        "  Input ->\n",
        "  kernlen: diametro della sfocatura gaussiana.\n",
        "  nsig:    varianza della sfocatura. Più basso, più sfoca.\n",
        "\n",
        "  Output -> Kernel Gaussiano di dimensione (kernlen+1) x (kernlen+1) e varianza nsig.\n",
        "  \"\"\"\n",
        "  import scipy.stats as st\n",
        "\n",
        "  x = np.linspace(-nsig, nsig, kernlen+1)\n",
        "  kern1d = np.diff(st.norm.cdf(x))\n",
        "  kern2d = np.outer(kern1d, kern1d)\n",
        "  return kern2d/kern2d.sum()\n",
        "\n",
        "def A(x, d=7, sigma=0.5):\n",
        "  \"\"\"\n",
        "  Esegue il prodotto Ax, dove A è la matrice di sfocamento (che, per aumentare l'efficienza, non viene memorizzata).\n",
        "  \n",
        "  Input ->\n",
        "  x:     Immagine di dimensione m x n, che si vuole sfocare.\n",
        "  d:     Diametro della sfocatura Gaussiana.\n",
        "  sigma: Varianza della sfocatura Gaussiana.\n",
        "  \n",
        "  Output -> Immagine di dimensione m x n, sfocata.\n",
        "  \"\"\"\n",
        "  from scipy.signal import convolve2d\n",
        "  from numpy import fft\n",
        "  m, n = x.shape\n",
        "\n",
        "  K_ext = np.zeros((m, n)) \n",
        "  K_ext[:d, :d] = gkern(d, sigma)\n",
        "  K_ext = fft.fft2(K_ext)\n",
        "  x = fft.fft2(x)\n",
        "\n",
        "  return np.real(fft.ifft2(K_ext * x))\n",
        "\n",
        "def AT(x, d=7, sigma=0.5):\n",
        "  \"\"\"\n",
        "  Esegue il prodotto A^T x, dove A è la matrice di sfocamento (che, per aumentare l'efficienza, non viene memorizzata).\n",
        "  \n",
        "  Input ->\n",
        "  x:     Immagine di dimensione m x n, che si vuole sfocare.\n",
        "  d:     Diametro della sfocatura Gaussiana.\n",
        "  sigma: Varianza della sfocatura Gaussiana.\n",
        "  \n",
        "  Output -> Immagine di dimensione m x n, sfocata.\n",
        "  \"\"\"\n",
        "  from scipy.signal import convolve2d\n",
        "  from numpy import fft\n",
        "  m, n = x.shape\n",
        "\n",
        "  K_ext = np.zeros((m, n))\n",
        "  K_ext[:d, :d] = gkern(d, sigma)\n",
        "  K_ext = fft.fft2(K_ext)\n",
        "  x = fft.fft2(x)\n",
        "\n",
        "  return np.real(fft.ifft2(np.conj(K_ext) * x))"
      ],
      "execution_count": 84,
      "outputs": []
    },
    {
      "cell_type": "code",
      "metadata": {
        "id": "yKvNWMntTAZx",
        "colab": {
          "base_uri": "https://localhost:8080/",
          "height": 227
        },
        "outputId": "52562360-71b3-4428-8d4e-635785098196"
      },
      "source": [
        "import numpy as np\n",
        "import matplotlib.pyplot as plt\n",
        "from skimage import data, filters\n",
        "from skimage.io import imread\n",
        "\n",
        "# https://imgur.com/a/kdBwySR\n",
        "# https://imgur.com/a/B9L2XgB\n",
        "# https://imgur.com/a/8LEt2IS\n",
        "\n",
        "# 1\n",
        "#X = data.camera()  Fotografo\n",
        "#X = imread(\"QRCode.png\")  #QRCode\n",
        "X = imread(\"TextImage.png\")  #Testo\n",
        "X = imread(\"unknown.png\") #Scimpanzè\n",
        "m, n = X.shape\n",
        "x = X.reshape(m*n) # array m*n\n",
        "\n",
        "\n",
        "# 2\n",
        "X_blur = A(X) # matrice\n",
        "x_blur = X_blur.reshape(m*n) # array\n",
        "\n",
        "\n",
        "# 3\n",
        "# Generiamo il rumore eta\n",
        "sigma = 0.1 # Varianza del rumore\n",
        "eta = np.random.normal(size=X_blur.shape) # random gaussian distribution\n",
        "eta /= np.linalg.norm(eta, 'fro') # norma di frobenius\n",
        "eta *= sigma * np.linalg.norm(X_blur,'fro')\n",
        "\n",
        "# Aggiungiamo il rumore all'immagine sfocata\n",
        "B = X_blur + eta\n",
        "b = B.reshape(m*n)\n",
        "\n",
        "# Visualizziamo i risultati\n",
        "plt.figure(figsize=(30, 10))\n",
        "\n",
        "ax1 = plt.subplot(1, 3, 1)\n",
        "ax1.imshow(X, cmap='gray')\n",
        "plt.title('Immagine Originale', fontsize=30)\n",
        "\n",
        "ax2 = plt.subplot(1, 3, 2)\n",
        "ax2.imshow(X_blur, cmap='gray')\n",
        "plt.title('Immagine Sfocata', fontsize=30)\n",
        "\n",
        "ax3 = plt.subplot(1, 3, 3)\n",
        "ax3.imshow(B, cmap='gray')\n",
        "plt.title('Immagine Corrotta', fontsize=30)\n",
        "\n",
        "plt.show()"
      ],
      "execution_count": 87,
      "outputs": [
        {
          "output_type": "error",
          "ename": "ValueError",
          "evalue": "ignored",
          "traceback": [
            "\u001b[0;31m---------------------------------------------------------------------------\u001b[0m",
            "\u001b[0;31mValueError\u001b[0m                                Traceback (most recent call last)",
            "\u001b[0;32m<ipython-input-87-bc52ba373313>\u001b[0m in \u001b[0;36m<module>\u001b[0;34m()\u001b[0m\n\u001b[1;32m     13\u001b[0m \u001b[0mX\u001b[0m \u001b[0;34m=\u001b[0m \u001b[0mimread\u001b[0m\u001b[0;34m(\u001b[0m\u001b[0;34m\"TextImage.png\"\u001b[0m\u001b[0;34m)\u001b[0m  \u001b[0;31m#Testo\u001b[0m\u001b[0;34m\u001b[0m\u001b[0;34m\u001b[0m\u001b[0m\n\u001b[1;32m     14\u001b[0m \u001b[0mX\u001b[0m \u001b[0;34m=\u001b[0m \u001b[0mimread\u001b[0m\u001b[0;34m(\u001b[0m\u001b[0;34m\"unknown.png\"\u001b[0m\u001b[0;34m)\u001b[0m \u001b[0;31m#Scimpanzè\u001b[0m\u001b[0;34m\u001b[0m\u001b[0;34m\u001b[0m\u001b[0m\n\u001b[0;32m---> 15\u001b[0;31m \u001b[0mm\u001b[0m\u001b[0;34m,\u001b[0m \u001b[0mn\u001b[0m \u001b[0;34m=\u001b[0m \u001b[0mX\u001b[0m\u001b[0;34m.\u001b[0m\u001b[0mshape\u001b[0m\u001b[0;34m\u001b[0m\u001b[0;34m\u001b[0m\u001b[0m\n\u001b[0m\u001b[1;32m     16\u001b[0m \u001b[0mx\u001b[0m \u001b[0;34m=\u001b[0m \u001b[0mX\u001b[0m\u001b[0;34m.\u001b[0m\u001b[0mreshape\u001b[0m\u001b[0;34m(\u001b[0m\u001b[0mm\u001b[0m\u001b[0;34m*\u001b[0m\u001b[0mn\u001b[0m\u001b[0;34m)\u001b[0m \u001b[0;31m# array m*n\u001b[0m\u001b[0;34m\u001b[0m\u001b[0;34m\u001b[0m\u001b[0m\n\u001b[1;32m     17\u001b[0m \u001b[0;34m\u001b[0m\u001b[0m\n",
            "\u001b[0;31mValueError\u001b[0m: too many values to unpack (expected 2)"
          ]
        }
      ]
    },
    {
      "cell_type": "markdown",
      "metadata": {
        "id": "50wew2cNu0_d"
      },
      "source": [
        "Il problema di ricostruire l'immagine originale partendo dalla sua corruzione $b$, si può riscrivere come un problema di ottimizzazione\n",
        "\n",
        "\\begin{align}\n",
        "  x^* = \\arg\\min_x \\frac{1}{2} ||Ax - b||_2^2 \\hspace{2cm} (1)\n",
        "\\end{align}\n",
        "\n",
        "4. Risolvere il problema (1) utilizzando l'algoritmo di discesa del gradiente con scelta del passo tramite backtracking, ricordando che, se \n",
        "\\begin{align*}\n",
        "  f(x) = \\frac{1}{2} ||Ax - b||_2^2, \\hspace{10px} \\nabla f(x) = A^T(Ax - b)\n",
        "\\end{align*}\n",
        "E chiamare la soluzione ottenuta $x_{naive}$.\n",
        "\n",
        "5. Modificare l'algoritmo precedente a far restituire l'errore tra l'immagine ricostruita al passo $k$ e l'immagine originale, per ogni $k$. Visualizzare il grafico dell'errore, e individuare per quale valore di $k$ si ha semiconvergenza. Per tale valore, calcolare l'immagine ricostruita e chiamarla $x_{trunc}$."
      ]
    },
    {
      "cell_type": "code",
      "metadata": {
        "id": "sg_gXMcPLmvD"
      },
      "source": [
        "def plot( iters, error, title): \n",
        "  err_iteration = np.linspace(1, iters, error.size)\n",
        "  plt.plot(err_iteration, error)\n",
        "  plt.title(title)\n",
        "  plt.grid()\n",
        "  plt.show()\n",
        "\n",
        "def find_x(error):\n",
        "  return np.where(error == np.amin(error))[0]\n",
        "\n",
        "def lambottimale(x, b, max):\n",
        "  lamb=0.00000001\n",
        "  k=0\n",
        "  x,_,_ = minimize_reg(B,X,B,lamb, max, ABSOLUTE_STOP) #bisogna ogni volta cambiare la funzione minimize in base a che lambda buoi calcolare\n",
        "  rat = 1.1\n",
        "  while np.linalg.norm(A(x)-b)**2 <= np.linalg.norm(eta)**2:\n",
        "    lamb *= rat\n",
        "    x,_,_ = minimize_reg(B,X,B,lamb, max, ABSOLUTE_STOP)\n",
        "    k+=1\n",
        "    print(\",\", end='')\n",
        "  print(\"it: \", k)\n",
        "  return lamb/rat\n",
        "\n",
        "MAXITERATIONS=50\n",
        "ABSOLUTE_STOP=1.e-5\n",
        "\n",
        "\n",
        "\n"
      ],
      "execution_count": null,
      "outputs": []
    },
    {
      "cell_type": "code",
      "metadata": {
        "id": "xC3LQZ2yyG-i"
      },
      "source": [
        "# 4 - 5 \n",
        "#Modificare l'algoritmo è stato interpretato come \"sovrascrivere il precedente\"\n",
        "\n",
        "def f(x, b): #\n",
        "  return 0.5*(np.linalg.norm(A(x)-b))**2\n",
        "\n",
        "def grad_f(x, b):\n",
        "  return AT(A(x)-b)\n",
        "\n",
        "def next_step(x, b, f, grad):\n",
        "\n",
        "  alpha = 1.1\n",
        "  rho = 0.5\n",
        "  c1 = 0.25\n",
        "  k = 0\n",
        "\n",
        "  while f(x-alpha*grad, b) > f(x, b) - alpha * c1 * np.linalg.norm(grad, 'fro') ** 2:\n",
        "    alpha *= rho\n",
        "    k += 1\n",
        "  \n",
        "  return alpha;\n",
        "\n",
        "def minimize(x0, x_true, b, maxit, abstop):\n",
        "  x = x0\n",
        "  grad = grad_f(x, b)\n",
        "  err = np.zeros(maxit) #errore alla k-esima iterazione\n",
        "\n",
        "  k = 0\n",
        "  while (np.linalg.norm(grad) > abstop) and (k < maxit):\n",
        "    x = x + next_step(x, b, f, grad) * (-grad) # x + passo*direzione (-gradiente ovvero massima decrescita)\n",
        "    grad = grad_f(x, b)\n",
        "    err[k]  = np.linalg.norm(x_true - x)  #distanza con la norma2, prima fa la differenza membro a membro fra matrici poi ne calcola la norma2\n",
        "    k += 1\n",
        "    print(\".\", end='')\n",
        "\n",
        "  err = err[0:k]  #l'ultima iterazione è esclusa perchè l'estremo destro viene escluso\n",
        "  return(x, k, err)\n"
      ],
      "execution_count": null,
      "outputs": []
    },
    {
      "cell_type": "code",
      "metadata": {
        "id": "PB2I4kTZxMcD"
      },
      "source": [
        "x_naive, ite_naive, err_naive = minimize(B, X, B, MAXITERATIONS, ABSOLUTE_STOP) #anche se nelle funzioni viene utilizzato 'x' viene passata 'X' ovvero la matrice dell'immagine\n",
        "plot(ite_naive, err_naive,\"Errore del metodo naive\")\n",
        "\n",
        "X_trunc_index = find_x(err_naive)\n",
        "X_trunc,_,_= minimize(B,X,B,X_trunc_index+1, ABSOLUTE_STOP)\n",
        "print(err_naive[X_trunc_index])"
      ],
      "execution_count": null,
      "outputs": []
    },
    {
      "cell_type": "markdown",
      "metadata": {
        "id": "F57jWqVLyIkw"
      },
      "source": [
        "Per risolvere la semiconvergenza, si introduce il problema regolarizzato\n",
        "\n",
        "\\begin{align*}\n",
        "  x^* = \\arg\\min_x \\frac{1}{2} ||Ax - b||_2^2 + \\frac{\\lambda}{2} ||x||_2^2 \\hspace{2cm} (2)\n",
        "\\end{align*}\n",
        "\n",
        "con $\\lambda > 0$ parametro di regolarizzazione.\n",
        "\n",
        "6. Sfruttando il fatto che, se\n",
        "\\begin{align*}\n",
        "f(x) = \\frac{1}{2} ||Ax - b||_2^2 + \\frac{\\lambda}{2} ||x||_2^2, \\hspace{10px} \\nabla f(x) = A^T(Ax - b) + \\lambda x\n",
        "\\end{align*}\n",
        "Risolvere il problema (2) utilizzando l'algoritmo precedente per diversi valori di $\\lambda$, e stimare il valore ottimale di $\\lambda$ che minimizzi l'errore tra l'immagine ricostruita e l'immagine originale (metodo euristico per il parametro di regolarizzazione). Chiamare $x_{\\lambda}$ tale soluzione. \\\\\n",
        "\n",
        "7. Stimare il valore ottimale di $\\lambda$ tramite principio di discrepanza, ovvero scegliere il più grande $\\lambda$ tale che\n",
        "\\begin{align*}\n",
        "  ||A x_\\lambda - b||_2^2 \\leq ||\\eta||_2^2\n",
        "\\end{align*}\n",
        "Dove $\\eta$ è il rumore. Chiamare $x_\\lambda^{disc}$ la soluzione ottenuta dal $\\lambda$ calcolato con principio di discrepanza.\n",
        " "
      ]
    },
    {
      "cell_type": "code",
      "metadata": {
        "id": "IiwIqp71zcKC"
      },
      "source": [
        "def f_reg(x, b, lamb):\n",
        "  return 0.5*(np.linalg.norm(A(x)-b))**2 + 0.5*lamb*np.linalg.norm(x)**2\n",
        "\n",
        "def grad_f_reg(x, b, lamb):\n",
        "  return AT(A(x)-b) + lamb*x\n",
        "\n",
        "def next_step_reg(x, b, f, grad, lamb):\n",
        "\n",
        "  alpha = 1.1\n",
        "  rho = 0.5\n",
        "  c1 = 0.25\n",
        "  k = 0\n",
        "\n",
        "  while f_reg(x-alpha*grad, b, lamb) > f_reg(x, b, lamb) - alpha * c1 * np.linalg.norm(grad, 'fro') ** 2:\n",
        "    alpha *= rho\n",
        "    k += 1\n",
        "  \n",
        "  return alpha;\n",
        "\n",
        "def minimize_reg(x0, x_true, b, lamb, maxit, abstop):\n",
        "  x = x0\n",
        "  grad = grad_f_reg(x, b, lamb)\n",
        "  err = np.zeros(maxit) #errore alla k-esima iterazione\n",
        "\n",
        "  k = 0\n",
        "  while (np.linalg.norm(grad) > abstop) and (k < maxit):\n",
        "    x = x + next_step_reg(x, b, f, grad, lamb) * (-grad) # x + passo*direzione (-gradiente ovvero massima decrescita)\n",
        "    grad = grad_f_reg(x, b, lamb)\n",
        "    err[k]  = np.linalg.norm(x_true - x)  #distanza con la norma2, prima fa la differenza membro a membro fra matrici poi ne calcola la norma2\n",
        "                                          #TODO: in teoria si potrebbe trasformare entrambi le matrici in vettori e poi farne la distanza ma ha senso? \n",
        "    k += 1\n",
        "\n",
        "  err = err[:k]  #l'ultima iterazione è esclusa perchè l'estremo destro viene escluso\n",
        "  return(x, k, err)\n"
      ],
      "execution_count": null,
      "outputs": []
    },
    {
      "cell_type": "code",
      "metadata": {
        "id": "9Qw-jxXL5WeQ"
      },
      "source": [
        "def lambottimale(b, max):\n",
        "  lamb= 0.6\n",
        "  k=0\n",
        "  x,_,err = minimize_reg(B,X,B,lamb, max, ABSOLUTE_STOP) #bisogna ogni volta cambiare la funzione minimize in base a che lambda buoi calcolare\n",
        "  x_index=find_x(err)\n",
        "  x,_,_ = minimize_reg(B, X, B, lamb, x_index+1, ABSOLUTE_STOP)\n",
        "  rat = 0.9\n",
        "  while np.linalg.norm(A(x)-b)**2 >= np.linalg.norm(eta)**2:\n",
        "    lamb *= rat\n",
        "    x,_,_ = minimize_reg(B,X,B,lamb, max, ABSOLUTE_STOP)\n",
        "    x_index=find_x(err)\n",
        "    x,_,_ = minimize_reg(B, X, B, lamb, x_index+1, ABSOLUTE_STOP)\n",
        "    k+=1\n",
        "    print(lamb)\n",
        "    print(\",\", end='')\n",
        "  print(\"it: \", k-1)\n",
        "  return lamb/rat\n",
        "\n",
        "lamb_reg = 0.03846986256908595 #lambda in modo euristico\n",
        "#lamb_reg = lambottimale(B, MAXITERATIONS)\n",
        "print(lamb_reg)\n",
        "print(np.linalg.norm(A(X)-B)**2 <= np.linalg.norm(eta)**2)\n",
        "\n",
        "(x_reg, ite_reg, err_reg) = minimize_reg(B, X, B, lamb_reg, MAXITERATIONS, ABSOLUTE_STOP) #anche se nelle funzioni viene utilizzato 'x' viene passata 'X' ovvero la matrice dell'immagine\n",
        "plot(ite_reg, err_reg,\"Errore del metodo ricostruito\")\n",
        "\n",
        "X_reg_index_reg = find_x(err_reg)\n",
        "print(err_reg[X_reg_index_reg])\n",
        "X_lambda,_,_= minimize_reg(B, X, B, lamb_reg, X_reg_index_reg+1, ABSOLUTE_STOP)\n"
      ],
      "execution_count": null,
      "outputs": []
    },
    {
      "cell_type": "code",
      "metadata": {
        "id": "OwyNjSe9CtpZ"
      },
      "source": [
        "lamb_disc = 0.06 #lamda tramite condizione discrepanza\n",
        "\n",
        "(X_reg2, ite_reg2, err_reg2) = minimize_reg(B, X, B, lamb_disc, MAXITERATIONS, ABSOLUTE_STOP) #anche se nelle funzioni viene utilizzato 'x' viene passata 'X' ovvero la matrice dell'immagine\n",
        "plot(ite_reg2, err_reg2,\"Errore del metodo ricostruito\")\n",
        "\n",
        "X_reg_index2 = find_x(err_reg2)\n",
        "print(err_reg2[X_reg_index2])\n",
        "X_lambda_disc,_,_= minimize_reg(B, X, B, lamb_disc, X_reg_index2+1, ABSOLUTE_STOP)"
      ],
      "execution_count": null,
      "outputs": []
    },
    {
      "cell_type": "markdown",
      "metadata": {
        "id": "torzZyj6zcdV"
      },
      "source": [
        "8. Ripetere quanto fatto nel punto 6, utilizzando la norma 1 come regolarizzatore, ovvero:\n",
        "\\begin{align*}\n",
        "    x^* = \\arg\\min_x \\frac{1}{2} ||Ax - b||_2^2 + \\lambda ||x||_1 \\hspace{2cm} (3)\n",
        "\\end{align*}\n",
        "Dove la funzione obiettivo ha gradiente\n",
        "\\begin{align*}\n",
        "  A^T(Ax - b) + \\lambda \\hspace{2px} sign(x)\n",
        "\\end{align*}"
      ]
    },
    {
      "cell_type": "code",
      "metadata": {
        "id": "61mJoUlpsfP0"
      },
      "source": [
        "def f_reg_1(x, b, lamb): \n",
        "  return 0.5*(np.linalg.norm(A(x)-b))**2 + lamb*np.linalg.norm(x, 1)\n",
        "\n",
        "def grad_f_reg_1(x, b, lamb):\n",
        "  return AT(A(x)-b) + lamb*np.sign(x)\n",
        "\n",
        "def next_step_reg_1(x, b, f, grad, lamb):\n",
        "\n",
        "  alpha = 1.1\n",
        "  rho = 0.5\n",
        "  c1 = 0.25\n",
        "  k = 0\n",
        "\n",
        "  while f_reg_1(x-alpha*grad, b, lamb) > f_reg_1(x, b, lamb) - alpha * c1 * np.linalg.norm(grad, 'fro') ** 2:\n",
        "    alpha *= rho\n",
        "    k += 1\n",
        "  \n",
        "  return alpha;\n",
        "\n",
        "def minimize_reg_1(x0, x_true, b, lamb, maxit, abstop):\n",
        "  x = x0\n",
        "  grad = grad_f_reg_1(x, b, lamb)\n",
        "  err = np.zeros(maxit) #errore alla k-esima iterazione\n",
        "\n",
        "  k = 0\n",
        "  while (np.linalg.norm(grad) > abstop) and (k < maxit):\n",
        "    x = x + next_step_reg_1(x, b, f, grad, lamb) * (-grad) # x + passo*direzione (-gradiente ovvero massima decrescita)\n",
        "    grad = grad_f_reg_1(x, b, lamb)\n",
        "    err[k]  = np.linalg.norm(x_true - x)  #distanza con la norma2, prima fa la differenza membro a membro fra matrici poi ne calcola la norma2\n",
        "                                          #TODO: in teoria si potrebbe trasformare entrambi le matrici in vettori e poi farne la distanza ma ha senso? \n",
        "    k += 1\n",
        "    print(\".\", end='')\n",
        "\n",
        "  err = err[:k]  #l'ultima iterazione è esclusa perchè l'estremo destro viene escluso\n",
        "  return(x, k, err)"
      ],
      "execution_count": null,
      "outputs": []
    },
    {
      "cell_type": "code",
      "metadata": {
        "id": "2KY_mv7lG93t"
      },
      "source": [
        "#Punto 8,  norma 1\n",
        "\n",
        "lamb_1 = 4.392300000000001 #lamda tramite condizione discrepanza\n",
        "\n",
        "(x_rec_1, ite_rec_1, err_reg_1) = minimize_reg_1(B, X, B, lamb_1, MAXITERATIONS, ABSOLUTE_STOP) #anche se nelle funzioni viene utilizzato 'x' viene passata 'X' ovvero la matrice dell'immagine\n",
        "plot(ite_rec_1, err_reg_1,\"Errore del metodo ricostruito con norma 1\")\n",
        "\n",
        "X_reg_index_1 = find_x(err_reg_1)\n",
        "print(err_reg_1[X_reg_index_1])\n",
        "X_lambda_1,_,_= minimize_reg_1(B, X, B, lamb_1, X_reg_index_1+1, ABSOLUTE_STOP)"
      ],
      "execution_count": null,
      "outputs": []
    },
    {
      "cell_type": "markdown",
      "metadata": {
        "id": "dybNAyc-sfpb"
      },
      "source": [
        "9. ($\\textit{facoltativo}$) Ripetere quanto fatto nei punti 6 e 8, utilizzando una norma mista come regolarizzatore, ovvero:\n",
        "\\begin{align*}\n",
        "    x^* = \\arg\\min_x \\frac{1}{2} ||Ax - b||_2^2 + \\frac{\\lambda}{2} ||x||_2^2 + \\mu ||x||_1 \\hspace{2cm} (4)\n",
        "\\end{align*}"
      ]
    },
    {
      "cell_type": "code",
      "metadata": {
        "id": "XP17043Gs63D"
      },
      "source": [
        "def f_reg_mista(x, b, lamb, mu): \n",
        "  return 0.5*(np.linalg.norm(A(x)-b))**2 + 0.5*lamb*np.linalg.norm(x)**2 + mu*np.linalg.norm(x,1)\n",
        "\n",
        "def grad_f_reg_mista(x, b, lamb, mu):\n",
        "  return AT(A(x)-b) + lamb*x +  mu*np.sign(x)\n",
        "\n",
        "def next_step_reg_mista(x, b, f, grad, lamb, mu):\n",
        "\n",
        "  alpha = 1.1\n",
        "  rho = 0.5\n",
        "  c1 = 0.25\n",
        "  k = 0\n",
        "\n",
        "  while f_reg_mista(x-alpha*grad, b, lamb, mu) > f_reg_mista(x, b, lamb, mu) - alpha * c1 * np.linalg.norm(grad, 'fro') ** 2:\n",
        "    alpha *= rho\n",
        "    k += 1\n",
        "  \n",
        "  return alpha;\n",
        "\n",
        "def minimize_reg_mista(x0, x_true, b, lamb, mu, maxit, abstop):\n",
        "  x = x0\n",
        "  grad = grad_f_reg_mista(x, b, lamb, mu)\n",
        "  err = np.zeros(maxit) #errore alla k-esima iterazione\n",
        "\n",
        "  k = 0\n",
        "  while (np.linalg.norm(grad) > abstop) and (k < maxit):\n",
        "    x = x + next_step_reg_mista(x, b, f, grad, lamb, mu) * (-grad) # x + passo*direzione (-gradiente ovvero massima decrescita)\n",
        "    grad = grad_f_reg_mista(x, b, lamb, mu)\n",
        "    err[k]  = np.linalg.norm(x_true - x)  #distanza con la norma2, prima fa la differenza membro a membro fra matrici poi ne calcola la norma2\n",
        "                                          #TODO: in teoria si potrebbe trasformare entrambi le matrici in vettori e poi farne la distanza ma ha senso? \n",
        "    k += 1\n",
        "    print(\".\", end='')\n",
        "\n",
        "  err = err[:k]  #l'ultima iterazione è esclusa perchè l'estremo destro viene escluso\n",
        "  return(x, k, err)"
      ],
      "execution_count": null,
      "outputs": []
    },
    {
      "cell_type": "code",
      "metadata": {
        "id": "PcsKcZoTHAWw"
      },
      "source": [
        "#Punto 9,  norma mista\n",
        "\n",
        "lamb = 0.02155582137126536 #lamda tramite condizione discrepanza\n",
        "mu = 0.025625815225418787\n",
        "\n",
        "(x_reg_mista, ite_reg_mista, err_reg_mista) = minimize_reg_mista(B, X, B, lamb, mu, MAXITERATIONS, ABSOLUTE_STOP) #anche se nelle funzioni viene utilizzato 'x' viene passata 'X' ovvero la matrice dell'immagine\n",
        "plot(ite_reg_mista, err_reg_mista,\"Errore del metodo ricostruito con norma mista\")\n",
        "\n",
        "X_reg_mista = find_x(err_reg_mista)\n",
        "print(err_reg_mista[X_reg_mista])\n",
        "X_lambda_mista,_,_= minimize_reg_mista(B, X, B, lamb, mu, X_reg_mista+1, ABSOLUTE_STOP)"
      ],
      "execution_count": null,
      "outputs": []
    },
    {
      "cell_type": "markdown",
      "metadata": {
        "id": "ZPPrIPyAs6QT"
      },
      "source": [
        "---\n",
        "\n",
        "# Analisi dei risultati\n",
        "\n",
        "---\n",
        "\n",
        "Per ognuna delle soluzioni trovate, calcolare:\n",
        "\n",
        "*   Errore relativo rispetto alla soluzione esatta $x_{true}$.\n",
        "*   PSNR (Peak Signal to Noise Ratio).\n",
        "\n",
        "Visualizzare le ricostruzioni ottenute con i vari metodi, e confrontare, sia numericamente che attraverso dei grafici, PSNR ed errore relativo ottenuti dalle ricostruzioni. Includere nel confronto, il valore delle metriche per l'immagine corrotta $b$.\n"
      ]
    },
    {
      "cell_type": "code",
      "metadata": {
        "id": "XMiEI8vFt7fN"
      },
      "source": [
        "def plot_all():\n",
        "  \n",
        "  # Visualizziamo i risultati\n",
        "  plt.figure(figsize=(40, 40))\n",
        "\n",
        "  ax1 = plt.subplot(4,2, 1)\n",
        "  ax1.imshow(X, cmap='gray')\n",
        "  plt.title('Immagine Originale', fontsize=30)\n",
        "\n",
        "  ax2 = plt.subplot(4,2, 2)\n",
        "  ax2.imshow(X_blur, cmap='gray')\n",
        "  plt.title('Immagine Sfocata', fontsize=30)\n",
        "\n",
        "  ax3 = plt.subplot(4,2, 3)\n",
        "  ax3.imshow(B, cmap='gray')\n",
        "  plt.title('Immagine Corrotta', fontsize=30)\n",
        "\n",
        "  ax3 = plt.subplot(4,2, 4)\n",
        "  ax3.imshow(X_trunc, cmap='gray')\n",
        "  plt.title('Immagine Naive', fontsize=30)\n",
        "\n",
        "  ax3 = plt.subplot(4,2, 5)\n",
        "  ax3.imshow(X_lambda, cmap='gray')\n",
        "  plt.title('Immagine Regolarizzata', fontsize=30)\n",
        "\n",
        "  ax3 = plt.subplot(4,2, 6)\n",
        "  ax3.imshow(X_lambda_disc, cmap='gray')\n",
        "  plt.title('Immagine Regolarizzata2', fontsize=30)\n",
        "\n",
        "  ax3 = plt.subplot(4,2, 7)\n",
        "  ax3.imshow(X_lambda_1, cmap='gray')\n",
        "  plt.title('Immagine Regolarizzata con norma 1', fontsize=30)\n",
        "\n",
        "  ax3 = plt.subplot(4,2, 8)\n",
        "  ax3.imshow(X_lambda_mista, cmap='gray')\n",
        "  plt.title('Immagine Regolarizzata con norma mista', fontsize=30)\n",
        "\n",
        "  plt.show()"
      ],
      "execution_count": null,
      "outputs": []
    },
    {
      "cell_type": "code",
      "metadata": {
        "id": "9tcwu1P5uSf8"
      },
      "source": [
        "def er(x, x_true):\n",
        "  return np.linalg.norm(x-x_true)/np.linalg.norm(x_true)\n",
        "\n",
        "def print_errors():\n",
        "  er_naive = er(X_trunc, X)\n",
        "  er_reg = er(X_lambda, X)\n",
        "  er_reg2 = er(X_lambda_disc, X)\n",
        "  er_1 = er(X_lambda_1, X)\n",
        "  er_mista = er(X_lambda_mista, X)\n",
        "  er_b = er(B, X)\n",
        "\n",
        "  print(\"Errore percentuale immagine corrotta:\", er_b*100, \"%\")\n",
        "  print(\"Errore percentuale immagine naive:\", er_naive*100, \"%\")\n",
        "  print(\"Errore percentuale immagine regolarizzata:\", er_reg*100 ,\"%\")\n",
        "  print(\"Errore percentuale immagine regolarizzata2:\", er_reg2*100, \"%\")\n",
        "  print(\"Errore percentuale immagine regolarizzata con norma uno\", er_1*100 ,\"%\")\n",
        "  print(\"Errore percentuale immagine regolarizzata con norma mista\", er_mista*100 , \"%\")\n",
        "  print()\n",
        "\n",
        "M,N = X.shape\n",
        "\n",
        "def PSNR(A):\n",
        "  return 20*np.log10(A.max()/((1/(M*N))*np.linalg.norm(eta)))\n",
        "\n",
        "def print_PSNR():\n",
        "\n",
        "  print(\"PSNR immagine corrotta:\", PSNR(B))\n",
        "  print(\"PSNR immagine naive:\", PSNR(X_trunc))\n",
        "  print(\"PSNR immagine immagine regolarizzata:\", PSNR(X_lambda))\n",
        "  print(\"PSNR immagine immagine regolarizzata2:\", PSNR(X_lambda_disc))\n",
        "  print(\"PSNR immagine regolarizzata con norma uno:\", PSNR(X_lambda_1))\n",
        "  print(\"PSNR immagine regolarizzata con norma mista:\", PSNR(X_lambda_mista))\n",
        "\n",
        "\n",
        "print_errors()\n",
        "print_PSNR()\n",
        "plot_all()"
      ],
      "execution_count": null,
      "outputs": []
    },
    {
      "cell_type": "markdown",
      "metadata": {
        "id": "BkX35e2quTBp"
      },
      "source": [
        "Ripetere tutti i passaggi, variando il livello del rumore (controllato dalla variabile $\\sigma$), i parametri del kernel di sfocamento Gaussiano, e l'immagine di test. \\\\\n",
        "Per la scelta delle immagini di test, utilizzare immagini **in bianco e nero, a scelta**, prese da internet, che rispettino i seguenti criteri:\n",
        "\n",
        "\n",
        "*   Almeno un'immagine \"geometrica\", ovvero con pochi dettagli e contorni netti e ben contrastati (es. QRCode, Codice a Barre, Scacchiera...).\n",
        "*   Almeno un'immagine \"fotografica\", ovvero con molti dettagli e livelli di grigio sfocati.\n",
        "*   Almeno un'immagine contenente del testo, che diventerà difficilmente leggibile dopo il processo di sfocamento.\n",
        "\n",
        "\n",
        "Osservare quale metodo di ricostruzione si comporta meglio nei vari esperimenti, ricordandosi corrompere l'immagine di input sia con rumore Gaussiano che con sfocatura.\n",
        "\n"
      ]
    }
  ]
}